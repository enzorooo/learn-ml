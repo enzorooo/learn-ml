{
 "cells": [
  {
   "cell_type": "code",
   "execution_count": 51,
   "id": "respective-unknown",
   "metadata": {},
   "outputs": [],
   "source": [
    "# import other needed libraries\n",
    "import numpy as np"
   ]
  },
  {
   "cell_type": "code",
   "execution_count": 5,
   "id": "democratic-storm",
   "metadata": {},
   "outputs": [
    {
     "data": {
      "text/plain": [
       "dict_keys(['data', 'target', 'frame', 'categories', 'feature_names', 'target_names', 'DESCR', 'details', 'url'])"
      ]
     },
     "execution_count": 5,
     "metadata": {},
     "output_type": "execute_result"
    }
   ],
   "source": [
    "# Fetch MNIST dataset\n",
    "from sklearn.datasets import fetch_openml #used for fetching MNIST dataset\n",
    "mnist = fetch_openml('mnist_784', version=1)\n",
    "mnist.keys()"
   ]
  },
  {
   "cell_type": "markdown",
   "id": "cleared-russia",
   "metadata": {},
   "source": [
    "The some keys to pay attention to and their description:\n",
    "\n",
    "| Key      | Description |\n",
    "| :--------: | :----------- |\n",
    "| **DESCR**      | Key to describe the dataset |\n",
    "| **Data**       | An array with 1 row per instance and 1 column per feature |\n",
    "| **Target**     | Array with labels |"
   ]
  },
  {
   "cell_type": "code",
   "execution_count": 42,
   "id": "august-copper",
   "metadata": {},
   "outputs": [
    {
     "name": "stdout",
     "output_type": "stream",
     "text": [
      "(70000, 784)\n",
      "(70000,)\n"
     ]
    }
   ],
   "source": [
    "# check mentioned arrays above\n",
    "x, y = mnist['data'], mnist['target']\n",
    "print(x.shape)\n",
    "print(y.shape)"
   ]
  },
  {
   "cell_type": "code",
   "execution_count": 43,
   "id": "armed-thousand",
   "metadata": {},
   "outputs": [
    {
     "name": "stdout",
     "output_type": "stream",
     "text": [
      "Database Description:\n",
      "There are 70000 images, and each image has 784 features.\n",
      "Features are the number of pixels per image in this case each image = 28 x 28 pixels\n",
      "There are (70000,) labels in this database\n"
     ]
    }
   ],
   "source": [
    "images,features = x.shape\n",
    "print(\"Database Description:\")\n",
    "print(\"There are \" + str(images) + \" images, and each image has \" + str(features) + \" features.\" )\n",
    "print(\"Features are the number of pixels per image in this case each image = 28 x 28 pixels\")\n",
    "print(\"There are \" + str(y.shape) + \" labels in this database\")"
   ]
  },
  {
   "cell_type": "code",
   "execution_count": 61,
   "id": "romance-montgomery",
   "metadata": {},
   "outputs": [
    {
     "data": {
      "image/png": "[encoded data removed]",
      "text/plain": [
       "<Figure size 432x288 with 1 Axes>"
      ]
     },
     "metadata": {
      "needs_background": "light"
     },
     "output_type": "display_data"
    },
    {
     "name": "stdout",
     "output_type": "stream",
     "text": [
      "Label:5\n"
     ]
    }
   ],
   "source": [
    "# Project a sample image from the dataset\n",
    "import matplotlib as mpl\n",
    "import matplotlib.pyplot as plt\n",
    "x = np.array(x) # convert into a numpy array\n",
    "y = y.astype(np.uint8) # cast label into an integer format\n",
    "example_digit = x[0]\n",
    "example_digit_image = example_digit.reshape(28,28) #reshape the array into a 28 x 28 array\n",
    "\n",
    "plt.imshow(example_digit_image, cmap=\"binary\")\n",
    "plt.axis(\"off\") # removes axis\n",
    "\n",
    "plt.show()\n",
    "print(\"Label:\" + str(y[0]))"
   ]
  },
  {
   "cell_type": "code",
   "execution_count": 62,
   "id": "infectious-juice",
   "metadata": {},
   "outputs": [],
   "source": [
    "# Create a test set and training set\n",
    "x_train, x_test, y_train, y_test = x[:6000], x[6000:], y[:6000], y[6000:]\n",
    "\n",
    "# x_train, y_train contains the first 5999 outputs, labels for the training set\n",
    "# x_test, y_test contains the remaining outputs, labels for the test set"
   ]
  },
  {
   "cell_type": "code",
   "execution_count": 63,
   "id": "stretch-dodge",
   "metadata": {},
   "outputs": [],
   "source": [
    "# Setting up the binary classifier parameters\n",
    "# Set up the binary classifier to identify where the input returns an output dependent on whether or not the input is a 5.\n",
    "y_train_5 = (y_train == 5) # condition is true for all inputs == 5, else false\n",
    "x_train_5 = (y_test == 5)"
   ]
  },
  {
   "cell_type": "code",
   "execution_count": 64,
   "id": "compact-folder",
   "metadata": {},
   "outputs": [
    {
     "data": {
      "text/plain": [
       "SGDClassifier(random_state=42)"
      ]
     },
     "execution_count": 64,
     "metadata": {},
     "output_type": "execute_result"
    }
   ],
   "source": [
    "# Train a Stochastic Gradient Decent (SGD) classifier to implement the classification model\n",
    "# SGD is named Stochastic because it relies on randomness during training\n",
    "# Should you want to reproduce the same result you must set the `random_state` parameter\n",
    "from sklearn.linear_model import SGDClassifier\n",
    "\n",
    "sgd_clf = SGDClassifier(random_state=42)\n",
    "sgd_clf.fit(x_train, y_train_5) # training data, model condition"
   ]
  },
  {
   "cell_type": "code",
   "execution_count": 70,
   "id": "scientific-scratch",
   "metadata": {},
   "outputs": [
    {
     "name": "stdout",
     "output_type": "stream",
     "text": [
      "True\n"
     ]
    }
   ],
   "source": [
    "# Predict if the input is a 5\n",
    "# Replace example_digit with x[i] where i = an index of an image in the database\n",
    "print(sgd_clf.predict([example_digit])[0])"
   ]
  },
  {
   "cell_type": "code",
   "execution_count": null,
   "id": "historical-luxury",
   "metadata": {},
   "outputs": [],
   "source": []
  }
 ],
 "metadata": {
  "kernelspec": {
   "display_name": "Python 3",
   "language": "python",
   "name": "python3"
  },
  "language_info": {
   "codemirror_mode": {
    "name": "ipython",
    "version": 3
   },
   "file_extension": ".py",
   "mimetype": "text/x-python",
   "name": "python",
   "nbconvert_exporter": "python",
   "pygments_lexer": "ipython3",
   "version": "3.9.1"
  }
 },
 "nbformat": 4,
 "nbformat_minor": 5
}
